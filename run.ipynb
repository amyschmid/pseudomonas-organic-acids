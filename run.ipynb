{
 "cells": [
  {
   "cell_type": "code",
   "execution_count": 1,
   "metadata": {},
   "outputs": [],
   "source": [
    "import pandas as pd\n",
    "import numpy as np\n",
    "import re\n",
    "import os\n",
    "import pickle\n",
    "import patsy\n",
    "\n",
    "from phenom.design import Formula\n",
    "from phenom.phenotype import Phenotype"
   ]
  },
  {
   "cell_type": "code",
   "execution_count": 8,
   "metadata": {},
   "outputs": [
    {
     "name": "stderr",
     "output_type": "stream",
     "text": [
      "/home/peter/dev/lund/venv/local/lib/python2.7/site-packages/numpy/core/_methods.py:112: RuntimeWarning: invalid value encountered in subtract\n",
      "  x = asanyarray(arr - arrmean)\n",
      "/home/peter/dev/phenom/phenom/phenotype.py:86: RuntimeWarning: invalid value encountered in subtract\n",
      "  y = (y - y.mean()) / y.std()\n"
     ]
    }
   ],
   "source": [
    "apriors = [[10, 10]] * 4\n",
    "lpriors = [[4, 1]] * 4\n",
    "\n",
    "for strain, acid in [\n",
    "        ('PA1054', 'sodium-benzoate'), ('PA1054', 'citric'), \n",
    "        ('PA1054', 'potassium-sorbate'), ('PA1054', 'butyric'), \n",
    "        ('PA01', 'malic'), ('PA01', 'lactic'), ('PA01', 'citric'), \n",
    "        ('PA01', 'benzoate'), ('PA1054', 'propionic'), ('PA1054', 'acetic'), \n",
    "        ('PA01', 'potassium-sorbate'), ('PA01', 'butyric'), ('PA01', 'propionic'),\n",
    "        ('PA01', 'acetic'), ('PA01', 'lactic'), ('PA1054', 'lactic'), \n",
    "        ('PA1054', 'malic'), ('PA01', 'benzoate'), ('PA01', 'citric'), ('PA01', 'lactic'), ('PA01', 'malic')]:\n",
    "    \n",
    "    label = '%s-%s'%(strain, acid)\n",
    "    #samp = pickle.load(open(os.path.join('samples', label, 'samples.pkl')))\n",
    "    \n",
    "    data = pd.read_csv(os.path.join('data/processed/', label, 'data.csv'), index_col=0)\n",
    "    meta = pd.read_csv(os.path.join('data/processed/', label, 'meta.csv'), index_col=0)\n",
    "    \n",
    "    meta['mMAcid'] = meta['mM-acid']\n",
    "    \n",
    "    treatment = \\\n",
    "        Formula(meta, 'C(pH, Treatment(7.0)) + C(mMAcid, Treatment(0)) + \\\n",
    "                            C(pH, Treatment(7.0)):C(mMAcid, Treatment(0))')\n",
    "    \n",
    "    p = Phenotype(data, treatment, \n",
    "          alpha_priors = apriors, \n",
    "          lengthscale_priors=lpriors, \n",
    "          sigma_prior=(1, 1), maxExpectedCross=4)\n",
    "    \n",
    "    p.samples(iter=2000)\n",
    "    \n",
    "    p.save(os.path.join('samples', label))"
   ]
  },
  {
   "cell_type": "code",
   "execution_count": null,
   "metadata": {},
   "outputs": [],
   "source": []
  }
 ],
 "metadata": {
  "kernelspec": {
   "display_name": "Python 2",
   "language": "python",
   "name": "python2"
  },
  "language_info": {
   "codemirror_mode": {
    "name": "ipython",
    "version": 2
   },
   "file_extension": ".py",
   "mimetype": "text/x-python",
   "name": "python",
   "nbconvert_exporter": "python",
   "pygments_lexer": "ipython2",
   "version": "2.7.12"
  }
 },
 "nbformat": 4,
 "nbformat_minor": 2
}
